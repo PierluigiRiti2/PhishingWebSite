{
 "cells": [
  {
   "cell_type": "code",
   "execution_count": 1,
   "metadata": {},
   "outputs": [],
   "source": [
    "import warnings\n",
    "warnings.filterwarnings(\"ignore\")\n",
    "from collections import Counter\n",
    "# Import pandas and numpy\n",
    "import pandas as pd\n",
    "import numpy as np\n",
    "# Import matplotlib\n",
    "import matplotlib.pyplot as plt\n",
    "from sklearn.metrics import accuracy_score, precision_recall_fscore_support, classification_report\n",
    "from sklearn.linear_model import LogisticRegression\n",
    "import wandb\n",
    "import time\n",
    "# Import GridSearchCV\n",
    "from sklearn.model_selection import RandomizedSearchCV"
   ]
  },
  {
   "cell_type": "code",
   "execution_count": 2,
   "metadata": {},
   "outputs": [],
   "source": [
    "# Fix the random seed\n",
    "np.random.seed(7)"
   ]
  },
  {
   "cell_type": "code",
   "execution_count": 3,
   "metadata": {},
   "outputs": [],
   "source": [
    "X_train, y_train = np.load(\"X_train.npy\", allow_pickle=True), np.load(\"y_train.npy\", allow_pickle=True)\n",
    "X_test, y_test = np.load(\"X_test.npy\", allow_pickle=True), np.load(\"y_test.npy\", allow_pickle=True)"
   ]
  },
  {
   "cell_type": "code",
   "execution_count": 4,
   "metadata": {},
   "outputs": [],
   "source": [
    "def evaluation_pipeline(model, train_data, test_data, name):\n",
    "    \n",
    "    wandb.init(project=\"PhishingWebsites\", name=name)\n",
    "    \n",
    "    (X_train, y_train) = train_data\n",
    "    (X_test, y_test) = test_data\n",
    "    \n",
    "    start = time.time()\n",
    "    model.fit(X_train, y_train)\n",
    "    end = time.time() - start\n",
    "    prediction = model.predict(X_test)\n",
    "\n",
    "    wandb.log({\"accuracy\":accuracy_score(y_test, prediction)*100.0,\\\n",
    "               \"precision\": precision_recall_fscore_support(y_test, prediction, average='macro')[0],\n",
    "               \"recall\": precision_recall_fscore_support(y_test, prediction, average='macro')[1],\n",
    "               \"training_time\":end})\n",
    "    \n",
    "    print(\"Accuracy score of the Logistic Regression classifier with default hyperparameter values {0:.2f}%\"\\\n",
    "              .format(accuracy_score(y_test, prediction)*100.))\n",
    "    print(\"\\n\")\n",
    "    print(\"----Classification report of the Logistic Regression classifier with default hyperparameter value----\")\n",
    "    print(\"\\n\")\n",
    "    print(classification_report(y_test, prediction, target_names=[\"Phishing Websites\", \"Normal Websites\"]))"
   ]
  },
  {
   "cell_type": "code",
   "execution_count": 5,
   "metadata": {},
   "outputs": [
    {
     "data": {
      "text/html": [
       "\n",
       "                Logging results to <a href=\"https://wandb.com\" target=\"_blank\">Weights & Biases</a> <a href=\"https://docs.wandb.com/integrations/jupyter.html\" target=\"_blank\">(Documentation)</a>.<br/>\n",
       "                Project page: <a href=\"https://app.wandb.ai/pierluigi_riti/PhishingWebsites\" target=\"_blank\">https://app.wandb.ai/pierluigi_riti/PhishingWebsites</a><br/>\n",
       "                Run page: <a href=\"https://app.wandb.ai/pierluigi_riti/PhishingWebsites/runs/ui42l897\" target=\"_blank\">https://app.wandb.ai/pierluigi_riti/PhishingWebsites/runs/ui42l897</a><br/>\n",
       "            "
      ],
      "text/plain": [
       "<IPython.core.display.HTML object>"
      ]
     },
     "metadata": {},
     "output_type": "display_data"
    },
    {
     "name": "stdout",
     "output_type": "stream",
     "text": [
      "Accuracy score of the Logistic Regression classifier with default hyperparameter values 92.46%\n",
      "\n",
      "\n",
      "----Classification report of the Logistic Regression classifier with default hyperparameter value----\n",
      "\n",
      "\n",
      "                   precision    recall  f1-score   support\n",
      "\n",
      "Phishing Websites       0.93      0.90      0.91      3924\n",
      "  Normal Websites       0.92      0.94      0.93      4920\n",
      "\n",
      "         accuracy                           0.92      8844\n",
      "        macro avg       0.92      0.92      0.92      8844\n",
      "     weighted avg       0.92      0.92      0.92      8844\n",
      "\n"
     ]
    }
   ],
   "source": [
    "logistic_regresion = LogisticRegression()\n",
    "evaluation_pipeline(logistic_regresion, (X_train, y_train),(X_test, y_test), \"logistic_regression\")"
   ]
  },
  {
   "cell_type": "code",
   "execution_count": 6,
   "metadata": {},
   "outputs": [],
   "source": [
    "penalty = [\"l1\", \"l2\"]\n",
    "C = [0.8, 0.9, 1.0]\n",
    "tol = [0.01, 0.001 ,0.0001]\n",
    "max_iter = [100, 150, 200, 250]\n",
    "\n",
    "param_dict = dict(penalty=penalty, C=C, tol=tol, max_iter=max_iter)"
   ]
  },
  {
   "cell_type": "code",
   "execution_count": 7,
   "metadata": {},
   "outputs": [
    {
     "name": "stdout",
     "output_type": "stream",
     "text": [
      "Best score: 92.44 using {'tol': 0.0001, 'penalty': 'l1', 'max_iter': 250, 'C': 0.8}\n"
     ]
    }
   ],
   "source": [
    "random_model = RandomizedSearchCV(estimator=logistic_regresion, param_distributions=param_dict, cv=5)\n",
    "\n",
    "random_model_result = random_model.fit(X_train, y_train)\n",
    "\n",
    "best_score, best_params = random_model_result.best_score_, random_model_result.best_params_\n",
    "print(\"Best score: %.2f using %s\" % (best_score*100., best_params))"
   ]
  },
  {
   "cell_type": "code",
   "execution_count": 8,
   "metadata": {},
   "outputs": [],
   "source": [
    "# config wandb\n",
    "config = wandb.config\n",
    "\n",
    "config.tol = 0.001\n",
    "config.penalty = \"l1\"\n",
    "config.C = 1.0"
   ]
  },
  {
   "cell_type": "code",
   "execution_count": 9,
   "metadata": {},
   "outputs": [
    {
     "data": {
      "text/html": [
       "\n",
       "                Logging results to <a href=\"https://wandb.com\" target=\"_blank\">Weights & Biases</a> <a href=\"https://docs.wandb.com/integrations/jupyter.html\" target=\"_blank\">(Documentation)</a>.<br/>\n",
       "                Project page: <a href=\"https://app.wandb.ai/pierluigi_riti/PhishingWebsites\" target=\"_blank\">https://app.wandb.ai/pierluigi_riti/PhishingWebsites</a><br/>\n",
       "                Run page: <a href=\"https://app.wandb.ai/pierluigi_riti/PhishingWebsites/runs/3hz73ks9\" target=\"_blank\">https://app.wandb.ai/pierluigi_riti/PhishingWebsites/runs/3hz73ks9</a><br/>\n",
       "            "
      ],
      "text/plain": [
       "<IPython.core.display.HTML object>"
      ]
     },
     "metadata": {},
     "output_type": "display_data"
    },
    {
     "name": "stdout",
     "output_type": "stream",
     "text": [
      "Accuracy score of the Logistic Regression classifier with default hyperparameter values 92.48%\n",
      "\n",
      "\n",
      "----Classification report of the Logistic Regression classifier with default hyperparameter value----\n",
      "\n",
      "\n",
      "                   precision    recall  f1-score   support\n",
      "\n",
      "Phishing Websites       0.93      0.90      0.91      3924\n",
      "  Normal Websites       0.92      0.94      0.93      4920\n",
      "\n",
      "         accuracy                           0.92      8844\n",
      "        macro avg       0.93      0.92      0.92      8844\n",
      "     weighted avg       0.92      0.92      0.92      8844\n",
      "\n"
     ]
    }
   ],
   "source": [
    "logistic_regresion = LogisticRegression(tol=config.tol, penalty=config.penalty, max_iter=250, C=config.C)\n",
    "evaluation_pipeline(logistic_regresion, (X_train, y_train), (X_test, y_test), \"Logistic_Regression_Random_Search\")"
   ]
  }
 ],
 "metadata": {
  "kernelspec": {
   "display_name": "Python 3",
   "language": "python",
   "name": "python3"
  },
  "language_info": {
   "codemirror_mode": {
    "name": "ipython",
    "version": 3
   },
   "file_extension": ".py",
   "mimetype": "text/x-python",
   "name": "python",
   "nbconvert_exporter": "python",
   "pygments_lexer": "ipython3",
   "version": "3.7.4"
  }
 },
 "nbformat": 4,
 "nbformat_minor": 2
}
